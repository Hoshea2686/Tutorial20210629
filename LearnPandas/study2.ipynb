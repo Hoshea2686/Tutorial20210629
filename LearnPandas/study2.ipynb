{
 "cells": [
  {
   "cell_type": "markdown",
   "metadata": {
    "collapsed": true,
    "pycharm": {
     "name": "#%% md\n"
    }
   },
   "source": [
    "<div style=\"background-color: #FFEAC9; margin-bottom: 10px; padding: 2%; border-radius: 6px;\">\n",
    "    <p style=\"line-height: 1.5; font-weight: bold;\">\n",
    "        课程介绍\n",
    "    </p>\n",
    "    <p style=\"line-height: 1.5;\">\n",
    "        机器学习开放基础课程是蓝桥云课经由\n",
    "        <a href=\"https://mlcourse.ai/\">\n",
    "            <i class=\"fa fa-external-link-square\" aria-hidden=\"true\">\n",
    "                <!--class=\"fa fa-external-link-square\"一个font-awesome中图标；改善网页的可访问性，我们建议\n",
    "                使用 aria-hidden=\"true\" 来隐藏纯粹用来装饰的图标。-->\n",
    "                <!--aria-hidden=\"true\" 通俗点说就是为屏幕识读设备过滤无关信息。用语音朗读的时候将该装饰图标过滤掉。\n",
    "                他是为视障人士设计的，通过读屏软件获取信息-->\n",
    "                <!--aria-hidden辅助技术，无障碍网页开发知乎：https://zhuanlan.zhihu.com/p/75211551 -->\n",
    "                Open Machine Learning Course\n",
    "            </i>\n",
    "        </a>\n",
    "        授权并制作的机器学习免费基础实战课。蓝桥云课和 mlcourse.ai 共同享有改编内容版权。\n",
    "    </p>\n",
    "    <p style=\"line-height: 1.5;\">\n",
    "        我们在原英文课程提供的内容和代码基础上进行了编译，并不局限于简单的翻译。特别地，\n",
    "        我们针对部分代码和内容进行增删，添加了更多的讲解和注释性内容，内容也更易于国内用户理解。\n",
    "        另外，课程适配了蓝桥云课提供的线上 Notebook 实验环境，让你可以随时随地开始学习。该课程适合于对机器学习感兴趣的用户，\n",
    "        但需要具备基础的 Python 编程能力和数学水平。\n",
    "    </p>\n",
    "    <p style=\"line-height: 1.5;\">\n",
    "        如果你学习完该课程后，想进一步深入学习机器学习或数据分析知识，欢迎报名\n",
    "        <a href=\"https://www.lanqiao.cn/louplus/\">\n",
    "            <i class=\"fa fa-external-link-square\" aria-hidden=\"true\">\n",
    "                蓝桥云课精心打造的楼+ 课程\n",
    "            </i>\n",
    "        </a>\n",
    "        。\n",
    "    </p>\n",
    "</div>"
   ]
  },
  {
   "cell_type": "code",
   "execution_count": null,
   "outputs": [],
   "source": [],
   "metadata": {
    "collapsed": false,
    "pycharm": {
     "name": "#%%\n"
    }
   }
  }
 ],
 "metadata": {
  "kernelspec": {
   "display_name": "Python 3",
   "language": "python",
   "name": "python3"
  },
  "language_info": {
   "codemirror_mode": {
    "name": "ipython",
    "version": 2
   },
   "file_extension": ".py",
   "mimetype": "text/x-python",
   "name": "python",
   "nbconvert_exporter": "python",
   "pygments_lexer": "ipython2",
   "version": "2.7.6"
  }
 },
 "nbformat": 4,
 "nbformat_minor": 0
}