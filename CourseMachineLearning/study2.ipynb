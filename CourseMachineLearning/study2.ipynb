{
 "cells": [
  {
   "cell_type": "markdown",
   "metadata": {
    "collapsed": true,
    "pycharm": {
     "name": "#%% md\n"
    }
   },
   "source": [
    "## 人口普查数据探索\n"
   ]
  },
  {
   "cell_type": "markdown",
   "source": [
    "---"
   ],
   "metadata": {
    "collapsed": false,
    "pycharm": {
     "name": "#%% md\n"
    }
   }
  },
  {
   "cell_type": "markdown",
   "source": [
    "本次挑战，运用Pandas探索数据，并回答有关\n",
    "[<i class=\"fa fa-external-link-square\" aria-hidden=True>Adult数据集</i>](https://archive.ics.uci.edu/ml/datasets/Adult/)\n",
    "的几个问题。<br />\n",
    "<!--\n",
    "<a href=\"https://archive.ics.uci.edu/ml/datasets/Adult/\">\n",
    "    <i class=\"fa fa-external-link-square\">Adult 数据集</i>\n",
    "</a>\n",
    "-->\n",
    "Adult数据集是一个关于人口收入普查的数据集，其中包含多个特征，目标值为类别类型。"
   ],
   "metadata": {
    "collapsed": false,
    "pycharm": {
     "name": "#%% md\n"
    }
   }
  },
  {
   "cell_type": "markdown",
   "source": [
    "加载数据集，预览"
   ],
   "metadata": {
    "collapsed": false,
    "pycharm": {
     "name": "#%% md\n"
    }
   }
  },
  {
   "cell_type": "code",
   "execution_count": 2,
   "outputs": [],
   "source": [
    "import warnings\n",
    "import numpy as np\n",
    "import pandas as pd\n",
    "import seaborn as sns\n",
    "import matplotlib.pyplot as plt\n",
    "%matplotlib inline\n",
    "warnings.filterwarnings(\"ignore\")"
   ],
   "metadata": {
    "collapsed": false,
    "pycharm": {
     "name": "#%%\n"
    }
   }
  },
  {
   "cell_type": "code",
   "execution_count": 3,
   "outputs": [
    {
     "data": {
      "text/plain": "   age         workclass  fnlwgt  education  education-num  \\\n0   39         State-gov   77516  Bachelors             13   \n1   50  Self-emp-not-inc   83311  Bachelors             13   \n2   38           Private  215646    HS-grad              9   \n3   53           Private  234721       11th              7   \n4   28           Private  338409  Bachelors             13   \n\n       marital-status         occupation   relationship   race     sex  \\\n0       Never-married       Adm-clerical  Not-in-family  White    Male   \n1  Married-civ-spouse    Exec-managerial        Husband  White    Male   \n2            Divorced  Handlers-cleaners  Not-in-family  White    Male   \n3  Married-civ-spouse  Handlers-cleaners        Husband  Black    Male   \n4  Married-civ-spouse     Prof-specialty           Wife  Black  Female   \n\n   capital-gain  capital-loss  hours-per-week native-country salary  \n0          2174             0              40  United-States  <=50K  \n1             0             0              13  United-States  <=50K  \n2             0             0              40  United-States  <=50K  \n3             0             0              40  United-States  <=50K  \n4             0             0              40           Cuba  <=50K  ",
      "text/html": "<div>\n<style scoped>\n    .dataframe tbody tr th:only-of-type {\n        vertical-align: middle;\n    }\n\n    .dataframe tbody tr th {\n        vertical-align: top;\n    }\n\n    .dataframe thead th {\n        text-align: right;\n    }\n</style>\n<table border=\"1\" class=\"dataframe\">\n  <thead>\n    <tr style=\"text-align: right;\">\n      <th></th>\n      <th>age</th>\n      <th>workclass</th>\n      <th>fnlwgt</th>\n      <th>education</th>\n      <th>education-num</th>\n      <th>marital-status</th>\n      <th>occupation</th>\n      <th>relationship</th>\n      <th>race</th>\n      <th>sex</th>\n      <th>capital-gain</th>\n      <th>capital-loss</th>\n      <th>hours-per-week</th>\n      <th>native-country</th>\n      <th>salary</th>\n    </tr>\n  </thead>\n  <tbody>\n    <tr>\n      <th>0</th>\n      <td>39</td>\n      <td>State-gov</td>\n      <td>77516</td>\n      <td>Bachelors</td>\n      <td>13</td>\n      <td>Never-married</td>\n      <td>Adm-clerical</td>\n      <td>Not-in-family</td>\n      <td>White</td>\n      <td>Male</td>\n      <td>2174</td>\n      <td>0</td>\n      <td>40</td>\n      <td>United-States</td>\n      <td>&lt;=50K</td>\n    </tr>\n    <tr>\n      <th>1</th>\n      <td>50</td>\n      <td>Self-emp-not-inc</td>\n      <td>83311</td>\n      <td>Bachelors</td>\n      <td>13</td>\n      <td>Married-civ-spouse</td>\n      <td>Exec-managerial</td>\n      <td>Husband</td>\n      <td>White</td>\n      <td>Male</td>\n      <td>0</td>\n      <td>0</td>\n      <td>13</td>\n      <td>United-States</td>\n      <td>&lt;=50K</td>\n    </tr>\n    <tr>\n      <th>2</th>\n      <td>38</td>\n      <td>Private</td>\n      <td>215646</td>\n      <td>HS-grad</td>\n      <td>9</td>\n      <td>Divorced</td>\n      <td>Handlers-cleaners</td>\n      <td>Not-in-family</td>\n      <td>White</td>\n      <td>Male</td>\n      <td>0</td>\n      <td>0</td>\n      <td>40</td>\n      <td>United-States</td>\n      <td>&lt;=50K</td>\n    </tr>\n    <tr>\n      <th>3</th>\n      <td>53</td>\n      <td>Private</td>\n      <td>234721</td>\n      <td>11th</td>\n      <td>7</td>\n      <td>Married-civ-spouse</td>\n      <td>Handlers-cleaners</td>\n      <td>Husband</td>\n      <td>Black</td>\n      <td>Male</td>\n      <td>0</td>\n      <td>0</td>\n      <td>40</td>\n      <td>United-States</td>\n      <td>&lt;=50K</td>\n    </tr>\n    <tr>\n      <th>4</th>\n      <td>28</td>\n      <td>Private</td>\n      <td>338409</td>\n      <td>Bachelors</td>\n      <td>13</td>\n      <td>Married-civ-spouse</td>\n      <td>Prof-specialty</td>\n      <td>Wife</td>\n      <td>Black</td>\n      <td>Female</td>\n      <td>0</td>\n      <td>0</td>\n      <td>40</td>\n      <td>Cuba</td>\n      <td>&lt;=50K</td>\n    </tr>\n  </tbody>\n</table>\n</div>"
     },
     "execution_count": 3,
     "metadata": {},
     "output_type": "execute_result"
    }
   ],
   "source": [
    "data = pd.read_csv(\n",
    "    'https://labfile.oss.aliyuncs.com/courses/1283/adult.data.csv')\n",
    "data.head()"
   ],
   "metadata": {
    "collapsed": false,
    "pycharm": {
     "name": "#%%\n"
    }
   }
  },
  {
   "cell_type": "markdown",
   "source": [
    "DataFrame 前面的列均为特征，最后的 `salary` 为目标值。接下来，你需要自行补充必要的代码来回答相应的挑战问题。"
   ],
   "metadata": {
    "collapsed": false,
    "pycharm": {
     "name": "#%% md\n"
    }
   }
  },
  {
   "cell_type": "markdown",
   "source": [
    "<i class=\"fa fa-question-circle\" aria-hidden=\"true\"> 问题：</i>数据集中有多少男性和女性？\n"
   ],
   "metadata": {
    "collapsed": false,
    "pycharm": {
     "name": "#%% md\n"
    }
   }
  },
  {
   "cell_type": "code",
   "execution_count": 4,
   "outputs": [
    {
     "data": {
      "text/plain": "Male      21790\nFemale    10771\nName: sex, dtype: int64"
     },
     "execution_count": 4,
     "metadata": {},
     "output_type": "execute_result"
    }
   ],
   "source": [
    "data[\"sex\"].value_counts()"
   ],
   "metadata": {
    "collapsed": false,
    "pycharm": {
     "name": "#%%\n"
    }
   }
  },
  {
   "cell_type": "markdown",
   "source": [
    "<i class=\"fa fa-question-circle\" aria-hidden=\"true\"> 问题：</i>数据集中女性的平均年龄是多少？"
   ],
   "metadata": {
    "collapsed": false,
    "pycharm": {
     "name": "#%% md\n"
    }
   }
  },
  {
   "cell_type": "code",
   "execution_count": 6,
   "outputs": [
    {
     "data": {
      "text/plain": "36.85823043357163"
     },
     "execution_count": 6,
     "metadata": {},
     "output_type": "execute_result"
    }
   ],
   "source": [
    "data[data[\"sex\"]==\"Female\"][\"age\"].mean()"
   ],
   "metadata": {
    "collapsed": false,
    "pycharm": {
     "name": "#%%\n"
    }
   }
  },
  {
   "cell_type": "markdown",
   "source": [
    "<i class=\"fa fa-question-circle\" aria-hidden=\"true\"> 问题：</i>数据集中德国公民的比例是多少？\n"
   ],
   "metadata": {
    "collapsed": false,
    "pycharm": {
     "name": "#%% md\n"
    }
   }
  },
  {
   "cell_type": "code",
   "execution_count": 8,
   "outputs": [
    {
     "data": {
      "text/plain": "0.004207487485028101"
     },
     "execution_count": 8,
     "metadata": {},
     "output_type": "execute_result"
    }
   ],
   "source": [
    "data[\"native-country\"].value_counts(normalize=True)[\"Germany\"]"
   ],
   "metadata": {
    "collapsed": false,
    "pycharm": {
     "name": "#%%\n"
    }
   }
  },
  {
   "cell_type": "markdown",
   "source": [
    "<i class=\"fa fa-question-circle\" aria-hidden=\"true\"> 问题：</i>年收入超过 50K 和低于 50K 人群年龄的平均值和标准差是多少？"
   ],
   "metadata": {
    "collapsed": false,
    "pycharm": {
     "name": "#%% md\n"
    }
   }
  },
  {
   "cell_type": "code",
   "execution_count": 10,
   "outputs": [
    {
     "data": {
      "text/plain": "             mean        std\nsalary                      \n<=50K   36.783738  14.020088\n>50K    44.249841  10.519028",
      "text/html": "<div>\n<style scoped>\n    .dataframe tbody tr th:only-of-type {\n        vertical-align: middle;\n    }\n\n    .dataframe tbody tr th {\n        vertical-align: top;\n    }\n\n    .dataframe thead th {\n        text-align: right;\n    }\n</style>\n<table border=\"1\" class=\"dataframe\">\n  <thead>\n    <tr style=\"text-align: right;\">\n      <th></th>\n      <th>mean</th>\n      <th>std</th>\n    </tr>\n    <tr>\n      <th>salary</th>\n      <th></th>\n      <th></th>\n    </tr>\n  </thead>\n  <tbody>\n    <tr>\n      <th>&lt;=50K</th>\n      <td>36.783738</td>\n      <td>14.020088</td>\n    </tr>\n    <tr>\n      <th>&gt;50K</th>\n      <td>44.249841</td>\n      <td>10.519028</td>\n    </tr>\n  </tbody>\n</table>\n</div>"
     },
     "execution_count": 10,
     "metadata": {},
     "output_type": "execute_result"
    }
   ],
   "source": [
    "data.groupby([\"salary\"])[\"age\"].agg([np.mean, np.std])"
   ],
   "metadata": {
    "collapsed": false,
    "pycharm": {
     "name": "#%%\n"
    }
   }
  },
  {
   "cell_type": "markdown",
   "source": [
    "<i class=\"fa fa-question-circle\" aria-hidden=\"true\"> 问题：</i>年收入超过 50K 的人群是否都接受过高中以上教育？\n",
    "\n",
    "\n"
   ],
   "metadata": {
    "collapsed": false,
    "pycharm": {
     "name": "#%% md\n"
    }
   }
  },
  {
   "cell_type": "code",
   "execution_count": 12,
   "outputs": [
    {
     "data": {
      "text/plain": "array(['HS-grad', 'Masters', 'Bachelors', 'Some-college', 'Assoc-voc',\n       'Doctorate', 'Prof-school', 'Assoc-acdm', '7th-8th', '12th',\n       '10th', '11th', '9th', '5th-6th', '1st-4th'], dtype=object)"
     },
     "execution_count": 12,
     "metadata": {},
     "output_type": "execute_result"
    }
   ],
   "source": [
    "# np.all(data[data[\"salary\"]==\">50K\"][\"education-num\"] >=9)\n",
    "data[data[\"salary\"]==\">50K\"][\"education\"].unique()"
   ],
   "metadata": {
    "collapsed": false,
    "pycharm": {
     "name": "#%%\n"
    }
   }
  },
  {
   "cell_type": "markdown",
   "source": [
    "<i class=\"fa fa-question-circle\" aria-hidden=\"true\"> 问题：</i>使用 `groupby` 和 `describe` 统计不同种族和性别人群的年龄分布数据。"
   ],
   "metadata": {
    "collapsed": false,
    "pycharm": {
     "name": "#%% md\n"
    }
   }
  },
  {
   "cell_type": "code",
   "execution_count": 14,
   "outputs": [
    {
     "data": {
      "text/plain": "                             count       mean        std   min   25%   50%  \\\nrace               sex                                                       \nAmer-Indian-Eskimo Female    119.0  37.117647  13.114991  17.0  27.0  36.0   \n                   Male      192.0  37.208333  12.049563  17.0  28.0  35.0   \nAsian-Pac-Islander Female    346.0  35.089595  12.300845  17.0  25.0  33.0   \n                   Male      693.0  39.073593  12.883944  18.0  29.0  37.0   \nBlack              Female   1555.0  37.854019  12.637197  17.0  28.0  37.0   \n                   Male     1569.0  37.682600  12.882612  17.0  27.0  36.0   \nOther              Female    109.0  31.678899  11.631599  17.0  23.0  29.0   \n                   Male      162.0  34.654321  11.355531  17.0  26.0  32.0   \nWhite              Female   8642.0  36.811618  14.329093  17.0  25.0  35.0   \n                   Male    19174.0  39.652498  13.436029  17.0  29.0  38.0   \n\n                             75%   max  \nrace               sex                  \nAmer-Indian-Eskimo Female  46.00  80.0  \n                   Male    45.00  82.0  \nAsian-Pac-Islander Female  43.75  75.0  \n                   Male    46.00  90.0  \nBlack              Female  46.00  90.0  \n                   Male    46.00  90.0  \nOther              Female  39.00  74.0  \n                   Male    42.00  77.0  \nWhite              Female  46.00  90.0  \n                   Male    49.00  90.0  ",
      "text/html": "<div>\n<style scoped>\n    .dataframe tbody tr th:only-of-type {\n        vertical-align: middle;\n    }\n\n    .dataframe tbody tr th {\n        vertical-align: top;\n    }\n\n    .dataframe thead th {\n        text-align: right;\n    }\n</style>\n<table border=\"1\" class=\"dataframe\">\n  <thead>\n    <tr style=\"text-align: right;\">\n      <th></th>\n      <th></th>\n      <th>count</th>\n      <th>mean</th>\n      <th>std</th>\n      <th>min</th>\n      <th>25%</th>\n      <th>50%</th>\n      <th>75%</th>\n      <th>max</th>\n    </tr>\n    <tr>\n      <th>race</th>\n      <th>sex</th>\n      <th></th>\n      <th></th>\n      <th></th>\n      <th></th>\n      <th></th>\n      <th></th>\n      <th></th>\n      <th></th>\n    </tr>\n  </thead>\n  <tbody>\n    <tr>\n      <th rowspan=\"2\" valign=\"top\">Amer-Indian-Eskimo</th>\n      <th>Female</th>\n      <td>119.0</td>\n      <td>37.117647</td>\n      <td>13.114991</td>\n      <td>17.0</td>\n      <td>27.0</td>\n      <td>36.0</td>\n      <td>46.00</td>\n      <td>80.0</td>\n    </tr>\n    <tr>\n      <th>Male</th>\n      <td>192.0</td>\n      <td>37.208333</td>\n      <td>12.049563</td>\n      <td>17.0</td>\n      <td>28.0</td>\n      <td>35.0</td>\n      <td>45.00</td>\n      <td>82.0</td>\n    </tr>\n    <tr>\n      <th rowspan=\"2\" valign=\"top\">Asian-Pac-Islander</th>\n      <th>Female</th>\n      <td>346.0</td>\n      <td>35.089595</td>\n      <td>12.300845</td>\n      <td>17.0</td>\n      <td>25.0</td>\n      <td>33.0</td>\n      <td>43.75</td>\n      <td>75.0</td>\n    </tr>\n    <tr>\n      <th>Male</th>\n      <td>693.0</td>\n      <td>39.073593</td>\n      <td>12.883944</td>\n      <td>18.0</td>\n      <td>29.0</td>\n      <td>37.0</td>\n      <td>46.00</td>\n      <td>90.0</td>\n    </tr>\n    <tr>\n      <th rowspan=\"2\" valign=\"top\">Black</th>\n      <th>Female</th>\n      <td>1555.0</td>\n      <td>37.854019</td>\n      <td>12.637197</td>\n      <td>17.0</td>\n      <td>28.0</td>\n      <td>37.0</td>\n      <td>46.00</td>\n      <td>90.0</td>\n    </tr>\n    <tr>\n      <th>Male</th>\n      <td>1569.0</td>\n      <td>37.682600</td>\n      <td>12.882612</td>\n      <td>17.0</td>\n      <td>27.0</td>\n      <td>36.0</td>\n      <td>46.00</td>\n      <td>90.0</td>\n    </tr>\n    <tr>\n      <th rowspan=\"2\" valign=\"top\">Other</th>\n      <th>Female</th>\n      <td>109.0</td>\n      <td>31.678899</td>\n      <td>11.631599</td>\n      <td>17.0</td>\n      <td>23.0</td>\n      <td>29.0</td>\n      <td>39.00</td>\n      <td>74.0</td>\n    </tr>\n    <tr>\n      <th>Male</th>\n      <td>162.0</td>\n      <td>34.654321</td>\n      <td>11.355531</td>\n      <td>17.0</td>\n      <td>26.0</td>\n      <td>32.0</td>\n      <td>42.00</td>\n      <td>77.0</td>\n    </tr>\n    <tr>\n      <th rowspan=\"2\" valign=\"top\">White</th>\n      <th>Female</th>\n      <td>8642.0</td>\n      <td>36.811618</td>\n      <td>14.329093</td>\n      <td>17.0</td>\n      <td>25.0</td>\n      <td>35.0</td>\n      <td>46.00</td>\n      <td>90.0</td>\n    </tr>\n    <tr>\n      <th>Male</th>\n      <td>19174.0</td>\n      <td>39.652498</td>\n      <td>13.436029</td>\n      <td>17.0</td>\n      <td>29.0</td>\n      <td>38.0</td>\n      <td>49.00</td>\n      <td>90.0</td>\n    </tr>\n  </tbody>\n</table>\n</div>"
     },
     "execution_count": 14,
     "metadata": {},
     "output_type": "execute_result"
    }
   ],
   "source": [
    "data.groupby([\"race\", \"sex\"])[\"age\"].describe()"
   ],
   "metadata": {
    "collapsed": false,
    "pycharm": {
     "name": "#%%\n"
    }
   }
  },
  {
   "cell_type": "markdown",
   "source": [
    "<i class=\"fa fa-question-circle\" aria-hidden=\"true\"> 问题：</i>统计男性高收入人群中已婚和未婚（包含离婚和分居）人群各自所占数量。"
   ],
   "metadata": {
    "collapsed": false,
    "pycharm": {
     "name": "#%% md\n"
    }
   }
  },
  {
   "cell_type": "code",
   "execution_count": 15,
   "outputs": [],
   "source": [
    "data[(data[\"salary\"]==\">50K\")&(data[\"sex\"]==\"Male\")][\"marital-status\"].value_counts()"
   ],
   "metadata": {
    "collapsed": false,
    "pycharm": {
     "name": "#%%\n"
    }
   }
  },
  {
   "cell_type": "markdown",
   "source": [
    "<i class=\"fa fa-question-circle\" aria-hidden=\"true\"> 问题：</i>统计数据集中最长周工作小时数及对应的人数，并计算该群体中收入超过 50K 的比例。"
   ],
   "metadata": {
    "collapsed": false,
    "pycharm": {
     "name": "#%% md\n"
    }
   }
  },
  {
   "cell_type": "code",
   "execution_count": 15,
   "outputs": [],
   "source": [
    "max_work = data[\"hours-per-week\"].max()\n",
    "df_max_work = data[data[\"hours-per-week\"]==max_work]\n",
    "print(max_work, df_max_work.shape[0])\n",
    "df_max_work[\"salary\"].value_counts(normalize=True)[\">50K\"]"
   ],
   "metadata": {
    "collapsed": false,
    "pycharm": {
     "name": "#%%\n"
    }
   }
  },
  {
   "cell_type": "markdown",
   "source": [
    "<i class=\"fa fa-question-circle\" aria-hidden=\"true\"> 问题：</i>计算各国超过和低于 50K 人群各自的平均周工作时长。\n"
   ],
   "metadata": {
    "collapsed": false,
    "pycharm": {
     "name": "#%% md\n"
    }
   }
  },
  {
   "cell_type": "code",
   "execution_count": 17,
   "outputs": [
    {
     "data": {
      "text/plain": "                            mean\nnative-country salary           \n?              <=50K   40.164760\n               >50K    45.547945\nCambodia       <=50K   41.416667\n               >50K    40.000000\nCanada         <=50K   37.914634\n...                          ...\nUnited-States  >50K    45.505369\nVietnam        <=50K   37.193548\n               >50K    39.200000\nYugoslavia     <=50K   41.600000\n               >50K    49.500000\n\n[82 rows x 1 columns]",
      "text/html": "<div>\n<style scoped>\n    .dataframe tbody tr th:only-of-type {\n        vertical-align: middle;\n    }\n\n    .dataframe tbody tr th {\n        vertical-align: top;\n    }\n\n    .dataframe thead th {\n        text-align: right;\n    }\n</style>\n<table border=\"1\" class=\"dataframe\">\n  <thead>\n    <tr style=\"text-align: right;\">\n      <th></th>\n      <th></th>\n      <th>mean</th>\n    </tr>\n    <tr>\n      <th>native-country</th>\n      <th>salary</th>\n      <th></th>\n    </tr>\n  </thead>\n  <tbody>\n    <tr>\n      <th rowspan=\"2\" valign=\"top\">?</th>\n      <th>&lt;=50K</th>\n      <td>40.164760</td>\n    </tr>\n    <tr>\n      <th>&gt;50K</th>\n      <td>45.547945</td>\n    </tr>\n    <tr>\n      <th rowspan=\"2\" valign=\"top\">Cambodia</th>\n      <th>&lt;=50K</th>\n      <td>41.416667</td>\n    </tr>\n    <tr>\n      <th>&gt;50K</th>\n      <td>40.000000</td>\n    </tr>\n    <tr>\n      <th>Canada</th>\n      <th>&lt;=50K</th>\n      <td>37.914634</td>\n    </tr>\n    <tr>\n      <th>...</th>\n      <th>...</th>\n      <td>...</td>\n    </tr>\n    <tr>\n      <th>United-States</th>\n      <th>&gt;50K</th>\n      <td>45.505369</td>\n    </tr>\n    <tr>\n      <th rowspan=\"2\" valign=\"top\">Vietnam</th>\n      <th>&lt;=50K</th>\n      <td>37.193548</td>\n    </tr>\n    <tr>\n      <th>&gt;50K</th>\n      <td>39.200000</td>\n    </tr>\n    <tr>\n      <th rowspan=\"2\" valign=\"top\">Yugoslavia</th>\n      <th>&lt;=50K</th>\n      <td>41.600000</td>\n    </tr>\n    <tr>\n      <th>&gt;50K</th>\n      <td>49.500000</td>\n    </tr>\n  </tbody>\n</table>\n<p>82 rows × 1 columns</p>\n</div>"
     },
     "execution_count": 17,
     "metadata": {},
     "output_type": "execute_result"
    }
   ],
   "source": [
    "data.groupby([\"native-country\",\"salary\",])[\"hours-per-week\"].agg([np.mean])"
   ],
   "metadata": {
    "collapsed": false,
    "pycharm": {
     "name": "#%%\n"
    }
   }
  },
  {
   "cell_type": "markdown",
   "source": [
    "---"
   ],
   "metadata": {
    "collapsed": false,
    "pycharm": {
     "name": "#%% md\n"
    }
   }
  },
  {
   "cell_type": "markdown",
   "source": [
    "[<i class=\"fa fa-file-code-o\"></i>参考](https://nbviewer.jupyter.org/github/shiyanlou/mlcourse-answers/tree/master/)"
   ],
   "metadata": {
    "collapsed": false,
    "pycharm": {
     "name": "#%% md\n"
    }
   }
  }
 ],
 "metadata": {
  "kernelspec": {
   "display_name": "Python 3",
   "language": "python",
   "name": "python3"
  },
  "language_info": {
   "codemirror_mode": {
    "name": "ipython",
    "version": 2
   },
   "file_extension": ".py",
   "mimetype": "text/x-python",
   "name": "python",
   "nbconvert_exporter": "python",
   "pygments_lexer": "ipython2",
   "version": "2.7.6"
  }
 },
 "nbformat": 4,
 "nbformat_minor": 0
}